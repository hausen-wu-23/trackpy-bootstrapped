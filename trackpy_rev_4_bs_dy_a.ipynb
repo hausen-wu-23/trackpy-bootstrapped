{
 "cells": [
  {
   "cell_type": "markdown",
   "id": "8cb6fa3a",
   "metadata": {},
   "source": [
    "# Walkthrough\n",
    "This notebook follows an example trackpy project from start to finish. We take video of micron-sized particles diffusing in water, track them, and analyze the trajectories to obtain the viscosity of water.\n",
    "\n",
    "At the bottom of the notebook, we very briefly survey the more advanced features of trackpy. Browse the rest of the [documentation](https://soft-matter.github.io/trackpy/stable) to learn more."
   ]
  },
  {
   "cell_type": "markdown",
   "id": "615d377d",
   "metadata": {},
   "source": [
    "# Scientific IPython Setup\n",
    "We need Python's plotting library, matplotlib. Your environment might load matplotlib automatically, but for this tutorial I'll load it explicitly using this convention. If you are unfamiliar with matplotlib, do the same as I do here, and everything that follows will work without modification."
   ]
  },
  {
   "cell_type": "code",
   "execution_count": 4,
   "id": "81a789d8",
   "metadata": {},
   "outputs": [],
   "source": [
    "from __future__ import division, unicode_literals, print_function  # for compatibility with Python 2 and 3\n",
    "\n",
    "import matplotlib as mpl\n",
    "import matplotlib.pyplot as plt\n",
    "\n",
    "# change the following to %matplotlib notebook for interactive plotting\n",
    "%matplotlib inline\n",
    "#%matplotlib notebook  \n",
    "\n",
    "# Optionally, tweak styles.\n",
    "mpl.rc('figure',  figsize=(10, 5))\n",
    "mpl.rc('image', cmap='gray')\n"
   ]
  },
  {
   "cell_type": "markdown",
   "id": "f4d43548",
   "metadata": {},
   "source": [
    "We also might want to use scientific Python libraries. Finally, we'll import trackpy itself and its sister project, pims."
   ]
  },
  {
   "cell_type": "code",
   "execution_count": 5,
   "id": "9ef3e3a2",
   "metadata": {},
   "outputs": [],
   "source": [
    "import numpy as np\n",
    "import pandas as pd\n",
    "from pandas import DataFrame, Series  # for convenience\n",
    "\n",
    "import pims\n",
    "import trackpy as tp"
   ]
  },
  {
   "cell_type": "markdown",
   "id": "a300b162",
   "metadata": {},
   "source": [
    "# Variable Set Up"
   ]
  },
  {
   "cell_type": "code",
   "execution_count": 6,
   "id": "a7c78adf",
   "metadata": {},
   "outputs": [
    {
     "name": "stdout",
     "output_type": "stream",
     "text": [
      "/Volumes/AndersonLab/Hausen W/Data/2022_07_08_1um_nyo_beads_14dex/for tracking/\n"
     ]
    }
   ],
   "source": [
    "fps = 50\n",
    "pixel_per_micron = 10.72\n",
    "file_dir = '/Volumes/AndersonLab/Hausen W/Data/2022_07_08_1um_nyo_beads_14dex/for tracking/dex_4_MMStack_Pos0.ome.tif'\n",
    "work_dir = '/'.join(file_dir.split('/')[:-1]) + '/'\n",
    "\n",
    "alpha = .94568\n",
    "\n",
    "print(work_dir)"
   ]
  },
  {
   "cell_type": "markdown",
   "id": "fe2efccd",
   "metadata": {},
   "source": [
    "We use the alias tp for brevity.\n",
    "\n",
    "# Step 1: Read the Data\n",
    "## Opening images or video\n",
    "To get our data into Python, we use our sister project, PIMS (Python Image Sequence). [PIMS](https://github.com/soft-matter/pims) makes it easy and convenient to load and process video data from many formats with one consistent interface.\n",
    "\n",
    "Using PIMS, trackpy can read:\n",
    "- a directory or zipfile of sequential images\n",
    "- a multi-frame TIFF file\n",
    "- a video (AVI, MOV, etc.)\n",
    "- specialty formats used in microscopy and scientific video capture:\n",
    "  -   Cine, NorPix seq\n",
    "  - LSM\n",
    "  - Files supported by [Bioformats](https://www.openmicroscopy.org/site/support/bio-formats5.1/supported-formats.html)\n",
    "  - ND2 using [PIMS_ND2](https://github.com/soft-matter/pims_nd2)\n",
    "(Some of the formats require some extra dependencies. For a complete list, see the README page for PIMS, or the installation instructions in the documentation.)\n",
    "\n",
    "For many formats, using <mark>pims.open</mark> just works. Since these images are in color, we also need to set up a pipeline to convert each image to grayscale when it is read."
   ]
  },
  {
   "cell_type": "markdown",
   "id": "fc1eeb51",
   "metadata": {},
   "source": [
    "### For TIFF"
   ]
  },
  {
   "cell_type": "code",
   "execution_count": 7,
   "id": "a45796b5",
   "metadata": {},
   "outputs": [],
   "source": [
    "#frames = gray(pims.open('../sample_data/bulk_water/*.png'))\n",
    "frames = pims.open(file_dir)\n",
    "#frames = pims.open(\"2-K16-L_Lipid14-5-1_dex40-T.nd2\")"
   ]
  },
  {
   "cell_type": "code",
   "execution_count": 8,
   "id": "76c4407a",
   "metadata": {},
   "outputs": [
    {
     "data": {
      "text/plain": [
       "<Frames>\n",
       "Source: /Volumes/AndersonLab/Hausen W/Data/2022_07_08_1um_nyo_beads_14dex/for tracking/dex_4_MMStack_Pos0.ome.tif\n",
       "Length: 3000 frames\n",
       "Frame Shape: (83, 81)\n",
       "Pixel Datatype: uint8"
      ]
     },
     "execution_count": 8,
     "metadata": {},
     "output_type": "execute_result"
    }
   ],
   "source": [
    "frames"
   ]
  },
  {
   "cell_type": "code",
   "execution_count": 9,
   "id": "dd811f36",
   "metadata": {},
   "outputs": [
    {
     "name": "stdout",
     "output_type": "stream",
     "text": [
      "3000\n"
     ]
    }
   ],
   "source": [
    "# find the number of frames\n",
    "#You can use Image.n_frames to find the number of frames in a TIFF. It was added in Pillow 2.9.0.\n",
    "from PIL import Image\n",
    "img = Image.open(file_dir)\n",
    "n_frame1 = img.n_frames\n",
    "print(n_frame1)\n",
    "\n",
    "# second method to find the number of frames \n",
    "#imarray = np.array(frames)\n",
    "#a1=imarray.shape[0]\n",
    "#n_frame1 = int(a1)\n",
    "#print(n_frame1)"
   ]
  },
  {
   "cell_type": "markdown",
   "id": "9369423f",
   "metadata": {},
   "source": [
    "We can access any frame like <mark>frames[frame_number]</mark>. The image is represented as a numpy array of intensities. If you're using the [Anaconda distribution](https://www.anaconda.com/distribution/) of Python, these should be in the range [0, 255]. If you have a more custom environment they may be in the range [0, 1], in which case you'll have to experiment with the <mark>minmass</mark> parameters below."
   ]
  },
  {
   "cell_type": "code",
   "execution_count": 10,
   "id": "61317f86",
   "metadata": {},
   "outputs": [
    {
     "data": {
      "image/png": "[encoded data removed]",
      "text/plain": [
       "<Figure size 720x360 with 1 Axes>"
      ]
     },
     "metadata": {
      "needs_background": "light"
     },
     "output_type": "display_data"
    }
   ],
   "source": [
    "plt.imshow(frames[0]);"
   ]
  },
  {
   "cell_type": "markdown",
   "id": "fe053542",
   "metadata": {},
   "source": [
    "# Step 2: Locate Features\n",
    "Start with just the first frame. Estimate the size of the features (in pixels). The size must be an odd integer, and it is better to err on the large side, as we'll see below. We estimate 11 pixels."
   ]
  },
  {
   "cell_type": "code",
   "execution_count": 11,
   "id": "b7fe8675",
   "metadata": {},
   "outputs": [],
   "source": [
    "inv = True"
   ]
  },
  {
   "cell_type": "code",
   "execution_count": 12,
   "id": "864e3695",
   "metadata": {},
   "outputs": [],
   "source": [
    "f = tp.locate(frames[0], 11, invert=inv)"
   ]
  },
  {
   "cell_type": "markdown",
   "id": "84629a62",
   "metadata": {},
   "source": [
    "The algorithm looks for bright features; since the features in this set of images are dark, we set invert=True.\n",
    "\n",
    "locate returns a spreadsheet-like object called a DataFrame. It lists\n",
    "\n",
    "- each feature's position,\n",
    "- various characterizations of its appearance, which we will use to filter out spurious features,\n",
    "- the \"signal\" strength and an estimate of uncertainty, both derived from this paper\n",
    "\n",
    "More information about DataFrames may be found in the pandas documentation. DataFrames can easily be exported to formats like CSV, Excel, SQL, HDF5, etc."
   ]
  },
  {
   "cell_type": "code",
   "execution_count": 13,
   "id": "c3d4997f",
   "metadata": {},
   "outputs": [
    {
     "data": {
      "text/plain": [
       "12"
      ]
     },
     "execution_count": 13,
     "metadata": {},
     "output_type": "execute_result"
    }
   ],
   "source": [
    "len(f.x)  # give the number of the features = size of x in f"
   ]
  },
  {
   "cell_type": "code",
   "execution_count": 14,
   "id": "5205ef9f",
   "metadata": {},
   "outputs": [
    {
     "data": {
      "image/png": "[encoded data removed]",
      "text/plain": [
       "<Figure size 720x360 with 1 Axes>"
      ]
     },
     "metadata": {
      "needs_background": "light"
     },
     "output_type": "display_data"
    },
    {
     "data": {
      "text/plain": [
       "<AxesSubplot:>"
      ]
     },
     "execution_count": 14,
     "metadata": {},
     "output_type": "execute_result"
    }
   ],
   "source": [
    "tp.annotate(f, frames[0])"
   ]
  },
  {
   "cell_type": "markdown",
   "id": "264026d1",
   "metadata": {},
   "source": [
    "# Refine parameters to elminate spurious features\n",
    "Many of these circles are clearly wrong; they are fleeting peaks in brightness that aren't actually particles. Rejecting them often improves results and speeds up feature-finding. There are many ways to distinguish real particles from spurious ones. The most important way is to look at total brightness (\"mass\")."
   ]
  },
  {
   "cell_type": "code",
   "execution_count": 15,
   "id": "9559d09f",
   "metadata": {},
   "outputs": [
    {
     "data": {
      "image/png": "[encoded data removed]",
      "text/plain": [
       "<Figure size 720x360 with 1 Axes>"
      ]
     },
     "metadata": {
      "needs_background": "light"
     },
     "output_type": "display_data"
    }
   ],
   "source": [
    "fig, ax = plt.subplots()\n",
    "ax.hist(f['mass'], bins=100)\n",
    "\n",
    "# Optionally, label the axes.\n",
    "ax.set(xlabel='mass', ylabel='count');"
   ]
  },
  {
   "cell_type": "markdown",
   "id": "d49b4a28",
   "metadata": {},
   "source": [
    "We can then specify the minmass parameter. If your image is especially noisy, you may also find the threshold parameter useful."
   ]
  },
  {
   "cell_type": "markdown",
   "id": "b8f9ed5c",
   "metadata": {},
   "source": [
    "### Set Parameters"
   ]
  },
  {
   "cell_type": "code",
   "execution_count": 16,
   "id": "58bb8bc2",
   "metadata": {},
   "outputs": [],
   "source": [
    "par_d = 15\n",
    "min_mass = 2500\n",
    "test_f = 0"
   ]
  },
  {
   "cell_type": "code",
   "execution_count": 17,
   "id": "707263e1",
   "metadata": {},
   "outputs": [],
   "source": [
    "f = tp.locate(frames[test_f], par_d, invert=inv, minmass=min_mass)"
   ]
  },
  {
   "cell_type": "code",
   "execution_count": 18,
   "id": "5a482442",
   "metadata": {},
   "outputs": [
    {
     "data": {
      "image/png": "[encoded data removed]",
      "text/plain": [
       "<Figure size 720x360 with 1 Axes>"
      ]
     },
     "metadata": {
      "needs_background": "light"
     },
     "output_type": "display_data"
    },
    {
     "data": {
      "text/plain": [
       "<AxesSubplot:>"
      ]
     },
     "execution_count": 18,
     "metadata": {},
     "output_type": "execute_result"
    }
   ],
   "source": [
    "tp.annotate(f, frames[test_f])"
   ]
  },
  {
   "cell_type": "code",
   "execution_count": 19,
   "id": "370a5eb5",
   "metadata": {},
   "outputs": [
    {
     "data": {
      "image/png": "[encoded data removed]",
      "text/plain": [
       "<Figure size 432x288 with 1 Axes>"
      ]
     },
     "metadata": {
      "needs_background": "light"
     },
     "output_type": "display_data"
    },
    {
     "data": {
      "text/plain": [
       "Text(3.200000000000017, 0.5, 'y')"
      ]
     },
     "execution_count": 19,
     "metadata": {},
     "output_type": "execute_result"
    }
   ],
   "source": [
    " # use \"%matplotlib notebook \" to be able change figue and save it\n",
    "%matplotlib inline   \n",
    "ax  = tp.annotate(f, frames[test_f])\n",
    "#len(f.x)  # give the number of the fitures = size of x in f\n",
    "\n",
    "ax.set_xticks([])\n",
    "ax.set_yticks([])\n",
    "ax.set_xlabel(\"x\", fontweight ='bold' , fontsize = 14)\n",
    "ax.set_ylabel('y', fontweight ='bold', fontsize = 14)\n",
    "\n",
    "#plt.savefig(\"circled_molecules.png\", dpi=300)\n",
    "# plt.savefig(work_dir + \"circled_molecules.jpg\")\n",
    "#plt.savefig(\"circled_molecules.svg\")"
   ]
  },
  {
   "cell_type": "code",
   "execution_count": 20,
   "id": "9c23e39d",
   "metadata": {},
   "outputs": [],
   "source": [
    "%matplotlib inline \n",
    "#%matplotlib notebook "
   ]
  },
  {
   "cell_type": "code",
   "execution_count": 21,
   "id": "02dee3fb",
   "metadata": {},
   "outputs": [],
   "source": [
    "#tp.annotate?"
   ]
  },
  {
   "cell_type": "markdown",
   "id": "59ae5f3c",
   "metadata": {},
   "source": [
    "There are more options for controling and optimizing feature-finding. You can review them in the [documentation](https://soft-matter.github.io/trackpy/stable/), where the most comprehensive description is in the API reference. Or, pull them up as you work by typing <mark>tp.locate?</mark> into IPython."
   ]
  },
  {
   "cell_type": "markdown",
   "id": "b2853b7e",
   "metadata": {},
   "source": [
    "# Check for subpixel accuracy\n",
    "As Eric Weeks points out in his related tutorial, a quick way to check for subpixel accuracy is to check that the decimal part of the x and/or y positions are evenly distributed. Trackpy provides a convenience plotting function for this called <mark>subpx_bias</mark>:"
   ]
  },
  {
   "cell_type": "code",
   "execution_count": 22,
   "id": "f77a2388",
   "metadata": {},
   "outputs": [
    {
     "data": {
      "text/plain": [
       "array([[<AxesSubplot:title={'center':'x'}>,\n",
       "        <AxesSubplot:title={'center':'y'}>]], dtype=object)"
      ]
     },
     "execution_count": 22,
     "metadata": {},
     "output_type": "execute_result"
    },
    {
     "data": {
      "image/png": "[encoded data removed]",
      "text/plain": [
       "<Figure size 432x288 with 2 Axes>"
      ]
     },
     "metadata": {
      "needs_background": "light"
     },
     "output_type": "display_data"
    }
   ],
   "source": [
    "tp.subpx_bias(f)"
   ]
  },
  {
   "cell_type": "markdown",
   "id": "cac810fa",
   "metadata": {},
   "source": [
    "If we use a mask size that is too small, the histogram often shows a dip in the middle."
   ]
  },
  {
   "cell_type": "code",
   "execution_count": 23,
   "id": "4aa9c884",
   "metadata": {},
   "outputs": [],
   "source": [
    "# tp.subpx_bias(tp.locate(frames[0], 5, invert=False, minmass=20));"
   ]
  },
  {
   "cell_type": "markdown",
   "id": "76166f7f",
   "metadata": {},
   "source": [
    "# Locate features in all frames\n",
    "Or, to start, just explore a subset of the frames."
   ]
  },
  {
   "cell_type": "markdown",
   "id": "6aa06cea",
   "metadata": {},
   "source": [
    "\n",
    "  ## selection\t                | syntax example\n",
    " \n",
    " all the frames:  ---           \tframes[:] or simply frames.<br/>\n",
    " the first 10 frames:---       \tframes[:10] <br/>\n",
    " the last 10 frames: ---        \tframes[-10:] <br/>\n",
    " a range of frames: ---         \tframes[100:200] <br/>\n",
    " every 10th frame:\t ---       frame[::10] <br/>\n",
    " a list of specific frames:---\tframes[[100, 107, 113]] <br/>"
   ]
  },
  {
   "cell_type": "markdown",
   "id": "95359a8b",
   "metadata": {},
   "source": [
    "We'll locate features in the first 300 frames from this video. We use tp.batch, which calls tp.locate on each frame and collects the results."
   ]
  },
  {
   "cell_type": "code",
   "execution_count": 24,
   "id": "2380ca0d",
   "metadata": {},
   "outputs": [
    {
     "name": "stdout",
     "output_type": "stream",
     "text": [
      "Frame 599: 2 features\n"
     ]
    }
   ],
   "source": [
    "#tp.quiet(suppress=True) # turn off printing the frame number and the features number to speed up the code\n",
    "tp.quiet(suppress=False) # Turn on progress reports\n",
    "f = tp.batch(frames[:2000], par_d, minmass=min_mass, invert=inv, processes=1);"
   ]
  },
  {
   "cell_type": "markdown",
   "id": "9993759a",
   "metadata": {},
   "source": [
    "As each frame is analyzed, tp.batch reports the frame number and how many features were found. If this number runs unexpectedly low or high, you may wish to interrupt it and try different parameters.\n",
    "\n",
    "If your images are small, you may find that printing this number actually slows down batch significantly! In that case you can run tp.quiet() to turn it off."
   ]
  },
  {
   "cell_type": "markdown",
   "id": "73ccf3d8",
   "metadata": {},
   "source": [
    "# Step 3: Link features into particle trajectories\n",
    "We have the locations of the particles in each frame. Next we'll track particles from frame to frame, giving each one a number for identification.\n",
    "\n",
    "First, we must must specify a maximum displacement (in pixels), the farthest a particle can travel between frames. We should choose the smallest reasonable value because a large value slows computation time considerably. In this case, 5 pixels is reasonable.\n",
    "\n",
    "Second, we allow for the possibility that a particle might be missed for a few frames and then seen again. (Perhaps its \"mass\" slipped below our cutoff due to noise in the video.) Memory keeps track of disappeared particles and maintains their ID for up to some number of frames after their last appearance. Here we use 3 frames."
   ]
  },
  {
   "cell_type": "code",
   "execution_count": 25,
   "id": "9b384eeb",
   "metadata": {},
   "outputs": [],
   "source": [
    "tp.quiet() # Turn off progress reports for best performance (same as tp.quiet(suppress=True))\n",
    "#tp.quiet(suppress=False) # Turn on progress reports\n",
    "t = tp.link_df(f, 7, memory=10)"
   ]
  },
  {
   "cell_type": "code",
   "execution_count": 26,
   "id": "c040accb",
   "metadata": {
    "scrolled": true
   },
   "outputs": [
    {
     "data": {
      "image/png": "[encoded data removed]",
      "text/plain": [
       "<Figure size 432x288 with 1 Axes>"
      ]
     },
     "metadata": {
      "needs_background": "light"
     },
     "output_type": "display_data"
    },
    {
     "data": {
      "text/plain": [
       "<AxesSubplot:xlabel='x [px]', ylabel='y [px]'>"
      ]
     },
     "execution_count": 26,
     "metadata": {},
     "output_type": "execute_result"
    }
   ],
   "source": [
    "plt.figure()\n",
    "ax = plt.gca() #you first need to get the axis handle\n",
    "ax.set_aspect(1) #sets the height to width ratio. \n",
    "tp.plot_traj(t)\n"
   ]
  },
  {
   "cell_type": "markdown",
   "id": "4c64171d",
   "metadata": {},
   "source": [
    "# Filter spurious trajectories\n",
    "We have more filtering to do. Ephemeral trajectories — seen only for a few frames — are usually spurious and never useful. The convenience function filter_stubs keeps only trajectories that last for a given number of frames."
   ]
  },
  {
   "cell_type": "code",
   "execution_count": 27,
   "id": "65284f5d",
   "metadata": {},
   "outputs": [
    {
     "name": "stdout",
     "output_type": "stream",
     "text": [
      "Before: 4\n",
      "After: 4\n"
     ]
    }
   ],
   "source": [
    "t1 = tp.filter_stubs(t, 50)\n",
    "# Compare the number of particles in the unfiltered and filtered data.\n",
    "print('Before:', t['particle'].nunique())\n",
    "print('After:', t1['particle'].nunique())"
   ]
  },
  {
   "cell_type": "markdown",
   "id": "80261c46",
   "metadata": {},
   "source": [
    "We can also filter trajectories by their particles' appearance. At this stage, with trajectories linked, we can look at a feature's \"average appearance\" throughout its trajectory, giving a more accurate picture."
   ]
  },
  {
   "cell_type": "code",
   "execution_count": 28,
   "id": "e0789fdb",
   "metadata": {},
   "outputs": [
    {
     "data": {
      "image/png": "[encoded data removed]",
      "text/plain": [
       "<Figure size 432x288 with 1 Axes>"
      ]
     },
     "metadata": {
      "needs_background": "light"
     },
     "output_type": "display_data"
    }
   ],
   "source": [
    "plt.figure()\n",
    "tp.mass_size(t1.groupby('particle').mean()); # convenience function -- just plots size vs. mass"
   ]
  },
  {
   "cell_type": "markdown",
   "id": "1138c32a",
   "metadata": {},
   "source": [
    "### Filtering"
   ]
  },
  {
   "cell_type": "markdown",
   "id": "f014ab49",
   "metadata": {},
   "source": [
    "The particles with especially low mass, or that are especially large or non-circular (eccentric), are probably out of focus or aggregated, respectively. It is best to experiment by trial and error, filtering out regions of mass-size space and looking at the results using tp.annotate. In the end, we need to separate the good particles from the spurious ones, and it doesn't matter how we get it done."
   ]
  },
  {
   "cell_type": "code",
   "execution_count": 29,
   "id": "360a6d64",
   "metadata": {},
   "outputs": [],
   "source": [
    "t2 = t1[((t1['mass'] > 0) & (t1['size'] < 20) &\n",
    "         (t1['ecc'] < .6))]"
   ]
  },
  {
   "cell_type": "code",
   "execution_count": 30,
   "id": "ec2e91f6",
   "metadata": {},
   "outputs": [
    {
     "data": {
      "image/png": "[encoded data removed]",
      "text/plain": [
       "<Figure size 432x288 with 1 Axes>"
      ]
     },
     "metadata": {
      "needs_background": "light"
     },
     "output_type": "display_data"
    }
   ],
   "source": [
    "plt.figure()\n",
    "tp.annotate(t2[t2['frame'] == 0], frames[0]);"
   ]
  },
  {
   "cell_type": "markdown",
   "id": "1152bc99",
   "metadata": {},
   "source": [
    "Trace the trajectories using plot_traj():"
   ]
  },
  {
   "cell_type": "code",
   "execution_count": 31,
   "id": "2b678141",
   "metadata": {},
   "outputs": [
    {
     "data": {
      "image/png": "[encoded data removed]",
      "text/plain": [
       "<Figure size 432x288 with 1 Axes>"
      ]
     },
     "metadata": {
      "needs_background": "light"
     },
     "output_type": "display_data"
    }
   ],
   "source": [
    "plt.figure()\n",
    "ax = plt.gca() #you first need to get the axis handle\n",
    "ax.set_aspect(1) #sets the height to width ratio. \n",
    "tp.plot_traj(t2);"
   ]
  },
  {
   "cell_type": "markdown",
   "id": "591ea3ae",
   "metadata": {},
   "source": [
    "### Eccentricity"
   ]
  },
  {
   "cell_type": "code",
   "execution_count": 32,
   "id": "c9feb735",
   "metadata": {},
   "outputs": [
    {
     "data": {
      "image/png": "[encoded data removed]",
      "text/plain": [
       "<Figure size 432x288 with 1 Axes>"
      ]
     },
     "metadata": {
      "needs_background": "light"
     },
     "output_type": "display_data"
    }
   ],
   "source": [
    "plt.hist(t2.ecc, bins=50,density ='True');\n",
    "#plt.hist(t2.ecc, bins=50,histtype =\"step\");"
   ]
  },
  {
   "cell_type": "markdown",
   "id": "2615a9b8",
   "metadata": {},
   "source": [
    "# Step 4: Analyze trajectories\n",
    "Trackpy includes several functions to help with some common analyses for particle trajectories. (See the \"Static Analysis\" and \"Motion Analysis\" sections of the API reference.)\n",
    "\n",
    "Here, we can show that these data are consistent with colloidal particles undergoing Brownian motion in water.\n",
    "\n",
    "# Mean Squared Displacement of Individal Probes\n",
    "Compute the mean squared displacement (MSD) of each particle using the imsd function, and plot MSD vs. lag time."
   ]
  },
  {
   "cell_type": "code",
   "execution_count": 33,
   "id": "574281b7",
   "metadata": {},
   "outputs": [],
   "source": [
    "#im = tp.imsd(t, 100/285., 24)  # microns per pixel = 100/285., frames per second = 24\n",
    "im = tp.imsd(t2, 1/pixel_per_micron, fps)  # microns per pixel = 100/285., frames per second = 24"
   ]
  },
  {
   "cell_type": "code",
   "execution_count": 34,
   "id": "ae2b2056",
   "metadata": {},
   "outputs": [
    {
     "data": {
      "image/png": "[encoded data removed]",
      "text/plain": [
       "<Figure size 432x288 with 1 Axes>"
      ]
     },
     "metadata": {
      "needs_background": "light"
     },
     "output_type": "display_data"
    }
   ],
   "source": [
    "fig, ax = plt.subplots()\n",
    "ax.plot(im.index, im, 'k-', alpha=0.1)  # black lines, semitransparent\n",
    "ax.set(ylabel=r'$\\langle \\Delta r^2 \\rangle$ [$\\mu$m$^2$]',\n",
    "       xlabel='lag time $t$')\n",
    "ax.set_xscale('log')\n",
    "ax.set_yscale('log')"
   ]
  },
  {
   "cell_type": "markdown",
   "id": "58c1d66c",
   "metadata": {},
   "source": [
    "# Ensemble Mean Squared Displacement\n",
    "Now use the emsd function to compute the ensemble mean squared displacement (EMSD) of all particles:"
   ]
  },
  {
   "cell_type": "markdown",
   "id": "96f72002",
   "metadata": {},
   "source": [
    "### Creating Bootstrapping Set"
   ]
  },
  {
   "cell_type": "code",
   "execution_count": 35,
   "id": "93fb0b05",
   "metadata": {},
   "outputs": [
    {
     "name": "stdout",
     "output_type": "stream",
     "text": [
      "[2 0 3 3 1 0 3 1 3 0 0 0 3 3 0 2]\n",
      "[2 0 3 2512 1 1078 3913 2584 3664 2634 2617 2352 2727 2091 3131 3360]\n"
     ]
    }
   ],
   "source": [
    "rand = np.random.choice(t2['particle'].unique(), 16)\n",
    "print(rand)\n",
    "t3 = pd.DataFrame(columns=t2.columns)\n",
    "# print(t3)\n",
    "alr_seen = []\n",
    "for i in rand:\n",
    "    df_t = t2[t2['particle'] == i]\n",
    "    # print(df_t)\n",
    "    if i not in alr_seen:\n",
    "        t3 = pd.concat([t3, df_t])\n",
    "        alr_seen.append(i)\n",
    "    else:\n",
    "        k = np.random.randint(1000, 3939)\n",
    "        while k in alr_seen:\n",
    "            k = np.random.randint(1000, 3939)\n",
    "        df_t = df_t.assign(particle = k)\n",
    "        t3 = pd.concat([t3, df_t])\n",
    "        alr_seen.append(k)\n",
    "    # t3.append(df_t)\n",
    "t3.sort_values(by='frame', ascending=True)\n",
    "print(t3['particle'].unique())\n",
    "    "
   ]
  },
  {
   "cell_type": "code",
   "execution_count": 36,
   "id": "16132de6",
   "metadata": {},
   "outputs": [
    {
     "name": "stderr",
     "output_type": "stream",
     "text": [
      "/Users/hausenwu/.virtualenvs/cv/lib/python3.9/site-packages/trackpy/motion.py:235: FutureWarning: Using the level keyword in DataFrame and Series aggregations is deprecated and will be removed in a future version. Use groupby instead. df.median(level=1) should use df.groupby(level=1).median().\n",
      "  results = msds.mul(msds['N'], axis=0).mean(level=1)  # weighted average\n",
      "/Users/hausenwu/.virtualenvs/cv/lib/python3.9/site-packages/trackpy/motion.py:236: FutureWarning: Using the level keyword in DataFrame and Series aggregations is deprecated and will be removed in a future version. Use groupby instead. df.median(level=1) should use df.groupby(level=1).median().\n",
      "  results = results.div(msds['N'].mean(level=1), axis=0)  # weights normalized\n"
     ]
    }
   ],
   "source": [
    "#em = tp.emsd(t, 100/285., 24) # microns per pixel = 100/285., frames per second = 24\n",
    "em = tp.emsd(t3, 1/pixel_per_micron, fps) # microns per pixel = 100/285., frames per second = 24"
   ]
  },
  {
   "cell_type": "markdown",
   "id": "82e51302",
   "metadata": {},
   "source": [
    "## fitting to nonlinear MSD"
   ]
  },
  {
   "cell_type": "code",
   "execution_count": 37,
   "id": "2524a9b4",
   "metadata": {},
   "outputs": [],
   "source": [
    "import matplotlib.pyplot as plt\n",
    "from scipy.optimize import curve_fit"
   ]
  },
  {
   "cell_type": "code",
   "execution_count": 38,
   "id": "739177e4",
   "metadata": {},
   "outputs": [],
   "source": [
    "def func(x, a, b, c):\n",
    "    return a*x**b + c\n",
    "\n",
    "def func2(x, a, b):\n",
    "    return a*x**b \n",
    "\n",
    "def func3(x, a, c):\n",
    "    return a*x**alpha + c"
   ]
  },
  {
   "cell_type": "code",
   "execution_count": 39,
   "id": "144dfe43",
   "metadata": {},
   "outputs": [],
   "source": [
    "lim1 = 5\n",
    "lim2 = 100"
   ]
  },
  {
   "cell_type": "code",
   "execution_count": 40,
   "id": "8504d02b",
   "metadata": {},
   "outputs": [],
   "source": [
    "x = em.index[lim1:lim2]\n",
    "y = em.values[lim1:lim2]"
   ]
  },
  {
   "cell_type": "code",
   "execution_count": 41,
   "id": "d3608e82",
   "metadata": {},
   "outputs": [
    {
     "data": {
      "text/plain": [
       "array([ 0.08094187,  0.84503596, -0.00886206])"
      ]
     },
     "execution_count": 41,
     "metadata": {},
     "output_type": "execute_result"
    }
   ],
   "source": [
    "popt, pcov = curve_fit(func, x, y)\n",
    "popt"
   ]
  },
  {
   "cell_type": "code",
   "execution_count": 42,
   "id": "bf3258ba",
   "metadata": {},
   "outputs": [
    {
     "data": {
      "image/png": "[encoded data removed]",
      "text/plain": [
       "<Figure size 432x288 with 1 Axes>"
      ]
     },
     "metadata": {
      "needs_background": "light"
     },
     "output_type": "display_data"
    },
    {
     "name": "stdout",
     "output_type": "stream",
     "text": [
      "D_eff = 0.02024 μm²/s^α\n",
      "α = 0.84504 \n",
      "c = -0.00886 μm²\n"
     ]
    },
    {
     "ename": "",
     "evalue": "",
     "output_type": "error",
     "traceback": [
      "\u001b[1;31mThe Kernel crashed while executing code in the the current cell or a previous cell. Please review the code in the cell(s) to identify a possible cause of the failure. Click <a href='https://aka.ms/vscodeJupyterKernelCrash'>here</a> for more info. View Jupyter <a href='command:jupyter.viewOutput'>log</a> for further details."
     ]
    }
   ],
   "source": [
    "plt.plot(em.index, em.values, 'o', label='Exp data', markersize=8)\n",
    "x2=em.index\n",
    "#plt.plot(x2, m*x2 + c, 'r', label='Fitted line')\n",
    "plt.loglog(x2, popt[0]*x2**popt[1] + popt[2], 'k', label='Fitted line ($K t^α +c$)')\n",
    "#ax = em.plot(style='or', label='Trackpy')\n",
    "\n",
    "plt.ylabel(r'$\\langle \\Delta r^2 \\rangle$ [$\\mu$m$^2$]',fontsize=14)\n",
    "plt.xlabel('lag time $(s)$', fontsize=14);\n",
    "plt.xticks(fontsize=14)\n",
    "plt.yticks(fontsize=14)\n",
    "plt.legend()\n",
    "plt.show()\n",
    "\n",
    "print(r'D_eff = {0:.5f} μm²/s^α'.format(popt[0]/4))\n",
    "print(r'α = {0:.5f} '.format(popt[1]))\n",
    "print(r'c = {0:.5f} μm²'.format(popt[2]))"
   ]
  },
  {
   "cell_type": "code",
   "execution_count": null,
   "id": "fa13a06e",
   "metadata": {},
   "outputs": [],
   "source": []
  },
  {
   "cell_type": "code",
   "execution_count": null,
   "id": "a4ac6988",
   "metadata": {},
   "outputs": [],
   "source": []
  }
 ],
 "metadata": {
  "kernelspec": {
   "display_name": "Python 3.9.0 ('cv')",
   "language": "python",
   "name": "python3"
  },
  "language_info": {
   "codemirror_mode": {
    "name": "ipython",
    "version": 3
   },
   "file_extension": ".py",
   "mimetype": "text/x-python",
   "name": "python",
   "nbconvert_exporter": "python",
   "pygments_lexer": "ipython3",
   "version": "3.9.0"
  },
  "vscode": {
   "interpreter": {
    "hash": "7722f72a897d79cb420c01244de66724e1a3435d01fe485e50b1303801342343"
   }
  }
 },
 "nbformat": 4,
 "nbformat_minor": 5
}
